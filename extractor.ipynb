{
 "cells": [
  {
   "cell_type": "code",
   "execution_count": 1,
   "metadata": {
    "collapsed": true
   },
   "outputs": [],
   "source": [
    "import pandas as pd"
   ]
  },
  {
   "cell_type": "code",
   "execution_count": 44,
   "metadata": {
    "collapsed": false
   },
   "outputs": [],
   "source": [
    "r10 = pd.read_excel(r'data/2010.xls', skiprows=9, parse_cols=[0, 2, 12])\n",
    "r10.rename(columns={'a': 'druh', 2: 'pojist_10', 12: 'uraz_pct_10'}, inplace=True)\n",
    "\n",
    "r11 = pd.read_excel(r'data/2011.xls', skiprows=9, parse_cols=[0, 2, 13])\n",
    "r11.rename(columns={'a': 'druh', 2: 'pojist_11', 13: 'uraz_pct_11'}, inplace=True)\n",
    "\n",
    "r12 = pd.read_excel(r'data/2012.xls', skiprows=9, parse_cols=[0, 2, 13])\n",
    "r12.rename(columns={'a': 'druh', 2: 'pojist_12', 13: 'uraz_pct_12'}, inplace=True)\n",
    "\n",
    "r13 = pd.read_excel(r'data/2013.xls', skiprows=9, parse_cols=[0, 2, 13])\n",
    "r13.rename(columns={'a': 'druh', 2: 'pojist_13', 13: 'uraz_pct_13'}, inplace=True)\n",
    "\n",
    "r14_1 = pd.read_excel(r'data/2014_1pol.xlsx', skiprows=9, parse_cols=[0, 2, 13])\n",
    "r14_1.rename(columns={'a': 'druh', 2: 'pojist_14', 13: 'uraz_pct_14'}, inplace=True)"
   ]
  },
  {
   "cell_type": "code",
   "execution_count": 48,
   "metadata": {
    "collapsed": false
   },
   "outputs": [],
   "source": [
    "data = r10.merge(r11, on='druh', how='outer').merge(r12, on='druh', how='outer').merge(r13, on='druh', how='outer').merge(r14_1, on='druh', how='outer')"
   ]
  },
  {
   "cell_type": "code",
   "execution_count": 50,
   "metadata": {
    "collapsed": false
   },
   "outputs": [],
   "source": [
    "data.to_excel(r'data/urazy_cas_rada.xlsx')"
   ]
  }
 ],
 "metadata": {
  "kernelspec": {
   "display_name": "Python 3",
   "language": "python",
   "name": "python3"
  },
  "language_info": {
   "codemirror_mode": {
    "name": "ipython",
    "version": 3
   },
   "file_extension": ".py",
   "mimetype": "text/x-python",
   "name": "python",
   "nbconvert_exporter": "python",
   "pygments_lexer": "ipython3",
   "version": "3.4.3"
  }
 },
 "nbformat": 4,
 "nbformat_minor": 0
}
